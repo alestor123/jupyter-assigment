{
 "cells": [
  {
   "cell_type": "code",
   "execution_count": 7,
   "metadata": {},
   "outputs": [],
   "source": [
    "## LOL\n"
   ]
  },
  {
   "cell_type": "code",
   "execution_count": null,
   "metadata": {},
   "outputs": [],
   "source": []
  },
  {
   "cell_type": "markdown",
   "metadata": {},
   "source": [
    "# My First Peer Assigment"
   ]
  },
  {
   "cell_type": "markdown",
   "metadata": {},
   "source": [
    "> Welcome to this notebook In this notebook we explore about data science including libs tools and many more by completing  this notebook you will get a basic idea of how to use JupiterNotbook"
   ]
  },
  {
   "cell_type": "markdown",
   "metadata": {},
   "source": [
    "# Data Science Languages\n",
    "\n",
    "Some of the most popular languages used in Data Science are:\n",
    "\n",
    "- Python\n",
    "- R\n",
    "- SQL\n",
    "- Julia\n",
    "- Scala"
   ]
  },
  {
   "cell_type": "markdown",
   "metadata": {},
   "source": [
    "# Data Science Libs\n",
    "popular libraries used in data science include:\n",
    "- **NumPY** - for numerical computation\n",
    "- **pandas** - for data computation\n",
    "- **matplotlib** - for data visualization \n",
    "- **seaborn** - for pie char bar char etc\n",
    "- **Scikit-learn** – for machine learning  \n",
    "- **TensorFlow** – for deep learning  \n",
    "- **Keras** – for building neural networks"
   ]
  },
  {
   "cell_type": "markdown",
   "metadata": {},
   "source": [
    "# Data Science Tools\n",
    "\n",
    "| TOOL | DESCRIPTION |\n",
    "| - | -|\n",
    "| Jupyter NoteBook | Interactive Environment |\n",
    "| RStudio | IDE For R |\n",
    "| VS CODE | Code Editor |\n",
    "| Github | Plaform for git vcs  |\n"
   ]
  },
  {
   "cell_type": "markdown",
   "metadata": {},
   "source": [
    "# Arithmetic Expression Examples\n",
    "In this section, we will demonstrate simple arithmetic operations in Python.  \n",
    "You will see examples of **addition**, **subtraction**, **multiplication**, and **division**, which are fundamental in data analysis and calculations.\n",
    "\n",
    "```1+2```\n",
    "\n",
    "```2-3```\n",
    "\n",
    "```1*2```\n",
    "\n",
    "```1/2```"
   ]
  },
  {
   "cell_type": "code",
   "execution_count": 10,
   "metadata": {},
   "outputs": [
    {
     "name": "stdout",
     "output_type": "stream",
     "text": [
      "SUM : 3\n",
      "DIFF : -1\n",
      "MULTIPLY : 2\n",
      "DIVIDE : 0.5\n"
     ]
    }
   ],
   "source": [
    "a=1\n",
    "b=2\n",
    "print(\"SUM : \"+str(a+b))\n",
    "print(\"DIFF : \"+str(a-b))\n",
    "print(\"MULTIPLY : \"+str(a*b))\n",
    "print(\"DIVIDE : \"+str(a/b))"
   ]
  },
  {
   "cell_type": "code",
   "execution_count": 11,
   "metadata": {},
   "outputs": [
    {
     "data": {
      "text/plain": [
       "2.5"
      ]
     },
     "execution_count": 11,
     "metadata": {},
     "output_type": "execute_result"
    }
   ],
   "source": [
    "minutes = 150\n",
    "hours = minutes / 60\n",
    "hours"
   ]
  },
  {
   "cell_type": "markdown",
   "metadata": {},
   "source": [
    "# Objectives\n",
    "> The objectives of this notebook are to:\n",
    "- learn about **popular datascience languages**\n",
    "- Explore commonly used **data science libraries**\n",
    "- understand and use **basic arthmetic ops**\n",
    "- covert unit such  as **minuteto ours**\n",
    "- Gain hands experience with **Jupyter Notebook**\n",
    "- Understand Key **Data Science Tools** and their uses \n"
   ]
  },
  {
   "cell_type": "markdown",
   "metadata": {},
   "source": [
    "# Author\n",
    "\n",
    "**Alestor Aldous**"
   ]
  },
  {
   "cell_type": "code",
   "execution_count": null,
   "metadata": {},
   "outputs": [],
   "source": []
  }
 ],
 "metadata": {
  "kernelspec": {
   "display_name": "Python 3 (ipykernel)",
   "language": "python",
   "name": "python3"
  },
  "language_info": {
   "codemirror_mode": {
    "name": "ipython",
    "version": 3
   },
   "file_extension": ".py",
   "mimetype": "text/x-python",
   "name": "python",
   "nbconvert_exporter": "python",
   "pygments_lexer": "ipython3",
   "version": "3.12.8"
  }
 },
 "nbformat": 4,
 "nbformat_minor": 4
}
